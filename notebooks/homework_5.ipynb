{
 "cells": [
  {
   "cell_type": "code",
   "execution_count": null,
   "metadata": {},
   "outputs": [],
   "source": [
    "import numpy as np\n",
    "import matplotlib.pyplot as plt\n",
    "from scipy.stats import geom, norm"
   ]
  },
  {
   "cell_type": "code",
   "execution_count": null,
   "metadata": {},
   "outputs": [],
   "source": [
    "# Load data\n",
    "file = '../data/homework_6/1.dat'\n",
    "data = np.loadtxt(file)\n",
    "\n",
    "# Distribution\n",
    "p = 0.01\n",
    "dist = geom(p)\n",
    "\n",
    "# Make plot\n",
    "fig, ax = plt.subplots()\n",
    "plt.title('Number of samples: %d'%(data.shape[0]))\n",
    "plt.hist(data, density=True, bins='auto', alpha=0.7)\n",
    "xmin, xmax = ax.get_xlim()\n",
    "x = np.linspace(xmin, xmax, 128)\n",
    "plt.plot(x, dist.pmf(x), color='black')\n",
    "plt.xlabel(r'$n$')\n",
    "plt.xlim(left=0.)\n",
    "plt.yticks([])\n",
    "plt.show()"
   ]
  },
  {
   "cell_type": "code",
   "execution_count": null,
   "metadata": {},
   "outputs": [],
   "source": [
    "# Load data\n",
    "file = '../data/homework_5/2.dat'\n",
    "data = np.loadtxt(file)\n",
    "\n",
    "# Distribution\n",
    "mean = 1\n",
    "sig = np.sqrt(5)\n",
    "dist = norm(mean, sig)\n",
    "\n",
    "# Make plot\n",
    "fig, ax = plt.subplots()\n",
    "plt.title('Number of samples: %d'%(data.shape[0]))\n",
    "plt.hist(data, density=True, bins='auto', alpha=0.7)\n",
    "xmin, xmax = ax.get_xlim()\n",
    "x = np.linspace(xmin, xmax, 128)\n",
    "plt.plot(x, dist.pdf(x), color='black')\n",
    "plt.xlabel(r'$\\mu$')\n",
    "plt.yticks([])\n",
    "plt.show()"
   ]
  },
  {
   "cell_type": "code",
   "execution_count": null,
   "metadata": {},
   "outputs": [],
   "source": [
    "# Load data\n",
    "file = '../data/homework_5/3.dat'\n",
    "data = np.loadtxt(file)\n",
    "\n",
    "xs = np.linspace(0, data.shape[1]-1, num=data.shape[1])\n",
    "x = []; y = []\n",
    "for i in range(data.shape[0]):\n",
    "    for j in range(data.shape[1]):\n",
    "        x.append(xs[j])\n",
    "        y.append(data[i, j])\n",
    "fig, _ = plt.subplots(figsize=(19, 3))\n",
    "plt.title('Number of samples: %d'%data.shape[0])\n",
    "plt.hist2d(x, y, bins=(17, 3), range=[[-0.5, 16.5], [-0.5, 2.5]], vmin=0., vmax=data.shape[0], density=False, cmap='binary')\n",
    "plt.xticks(list(range(17)))\n",
    "plt.xlabel('State')\n",
    "plt.yticks([0, 1, 2])\n",
    "plt.ylabel('Value')\n",
    "plt.colorbar(label='Number of samples')\n",
    "plt.show()"
   ]
  }
 ],
 "metadata": {
  "kernelspec": {
   "display_name": "Python 3.10.6 64-bit",
   "language": "python",
   "name": "python3"
  },
  "language_info": {
   "codemirror_mode": {
    "name": "ipython",
    "version": 3
   },
   "file_extension": ".py",
   "mimetype": "text/x-python",
   "name": "python",
   "nbconvert_exporter": "python",
   "pygments_lexer": "ipython3",
   "version": "3.10.6"
  },
  "orig_nbformat": 4,
  "vscode": {
   "interpreter": {
    "hash": "aee8b7b246df8f9039afb4144a1f6fd8d2ca17a180786b69acc140d282b71a49"
   }
  }
 },
 "nbformat": 4,
 "nbformat_minor": 2
}
