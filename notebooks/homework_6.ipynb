{
 "cells": [
  {
   "cell_type": "code",
   "execution_count": null,
   "metadata": {},
   "outputs": [],
   "source": [
    "# Standard imports\n",
    "import numpy as np\n",
    "import matplotlib.pyplot as plt\n",
    "from scipy.stats import geom, norm"
   ]
  },
  {
   "cell_type": "code",
   "execution_count": null,
   "metadata": {},
   "outputs": [],
   "source": [
    "# Parameters\n",
    "#inference = None\n",
    "inference = 'IS'\n",
    "#inference = 'SMC'"
   ]
  },
  {
   "cell_type": "code",
   "execution_count": null,
   "metadata": {},
   "outputs": [],
   "source": [
    "# Functions\n",
    "def results(inference, i):\n",
    "    root = '../data/homework_6/'\n",
    "    if inference is None:\n",
    "        file = root+'%d.dat'%(i)\n",
    "    else:\n",
    "        file = root+'%d_%s.dat'%(i, inference)\n",
    "    return file\n",
    "\n",
    "def analytical_posterior_parameters(ys, mu_0, sig_0, sig):\n",
    "    '''\n",
    "    Evaluates the above two equations for the analytical mean and deviation of the Gaussian posterior.\n",
    "    ys: data array of observations\n",
    "    mu_0: mean value of the prior\n",
    "    sig_0: standard deviation of the prior\n",
    "    sig: data variance (assumed known a-priori)\n",
    "    '''\n",
    "    n = len(ys)\n",
    "    sig_n = (1./sig_0**2+n/sig**2)**(-0.5)\n",
    "    mu_n = sig_n**2*(mu_0/sig_0**2+n*np.mean(ys)/sig**2)\n",
    "    return mu_n, sig_n"
   ]
  },
  {
   "cell_type": "code",
   "execution_count": null,
   "metadata": {},
   "outputs": [],
   "source": [
    "# Program 1\n",
    "\n",
    "# Load data\n",
    "file = results(inference, 1)\n",
    "data = np.loadtxt(file)\n",
    "\n",
    "# Distribution\n",
    "p = 0.01\n",
    "dist = geom(p)\n",
    "\n",
    "# Make plot\n",
    "fig, ax = plt.subplots()\n",
    "plt.title('Number of samples: {:,}'.format(data.shape[0]))\n",
    "plt.hist(data, density=True, bins='auto', alpha=0.7)\n",
    "xmin, xmax = ax.get_xlim()\n",
    "x = np.linspace(xmin, xmax, 128)\n",
    "plt.plot(x, dist.pmf(x), color='black')\n",
    "plt.xlabel(r'$n$')\n",
    "plt.xlim(left=0.)\n",
    "plt.yticks([])\n",
    "plt.show()"
   ]
  },
  {
   "cell_type": "code",
   "execution_count": null,
   "metadata": {},
   "outputs": [],
   "source": [
    "# Program 2\n",
    "\n",
    "# Load data\n",
    "file = results(inference, 2)\n",
    "data = np.loadtxt(file)\n",
    "\n",
    "# Distribution\n",
    "if inference is None:\n",
    "    mu_n, sig_n = 1., np.sqrt(5)\n",
    "else:\n",
    "    mu_0, sig_0 = 1., np.sqrt(5.)\n",
    "    sig = np.sqrt(2.)\n",
    "    ys = [8., 9.]\n",
    "    mu_n, sig_n = analytical_posterior_parameters(ys, mu_0, sig_0, sig)\n",
    "dist = norm(mu_n, sig_n)\n",
    "\n",
    "# Make plot\n",
    "fig, ax = plt.subplots()\n",
    "plt.title('Number of samples: {:,}'.format(data.shape[0]))\n",
    "plt.hist(data, density=True, bins='auto', alpha=0.7)\n",
    "xmin, xmax = ax.get_xlim()\n",
    "x = np.linspace(xmin, xmax, 128)\n",
    "plt.plot(x, dist.pdf(x), color='black')\n",
    "plt.xlabel(r'$\\mu$')\n",
    "plt.yticks([])\n",
    "plt.show()"
   ]
  },
  {
   "cell_type": "code",
   "execution_count": null,
   "metadata": {},
   "outputs": [],
   "source": [
    "# Program 3\n",
    "\n",
    "# Load data\n",
    "file = results(inference, 3)\n",
    "data = np.loadtxt(file)\n",
    "\n",
    "# Make plot\n",
    "xs = np.linspace(0, data.shape[1]-1, num=data.shape[1])\n",
    "x = []; y = []\n",
    "for i in range(data.shape[0]):\n",
    "    for j in range(data.shape[1]):\n",
    "        x.append(xs[j])\n",
    "        y.append(data[i, j])\n",
    "fig, _ = plt.subplots(figsize=(19, 3))\n",
    "plt.title('Number of samples: {:,}'.format(data.shape[0]))\n",
    "plt.hist2d(x, y, bins=(17, 3), range=[[-0.5, 16.5], [-0.5, 2.5]], vmin=0., vmax=data.shape[0], density=False, cmap='binary')\n",
    "plt.xticks(list(range(17)))\n",
    "plt.xlabel('State')\n",
    "plt.yticks([0, 1, 2])\n",
    "plt.ylabel('Value')\n",
    "plt.colorbar(label='Number of samples')\n",
    "plt.show()"
   ]
  }
 ],
 "metadata": {
  "kernelspec": {
   "display_name": "Python 3.10.6 64-bit",
   "language": "python",
   "name": "python3"
  },
  "language_info": {
   "codemirror_mode": {
    "name": "ipython",
    "version": 3
   },
   "file_extension": ".py",
   "mimetype": "text/x-python",
   "name": "python",
   "nbconvert_exporter": "python",
   "pygments_lexer": "ipython3",
   "version": "3.10.6"
  },
  "orig_nbformat": 4,
  "vscode": {
   "interpreter": {
    "hash": "aee8b7b246df8f9039afb4144a1f6fd8d2ca17a180786b69acc140d282b71a49"
   }
  }
 },
 "nbformat": 4,
 "nbformat_minor": 2
}
